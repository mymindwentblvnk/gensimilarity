{
 "cells": [
  {
   "cell_type": "markdown",
   "metadata": {},
   "source": [
    "# gensimilartists"
   ]
  },
  {
   "cell_type": "code",
   "execution_count": 1,
   "metadata": {},
   "outputs": [],
   "source": [
    "from gensimilartists import *"
   ]
  },
  {
   "cell_type": "markdown",
   "metadata": {},
   "source": [
    "### The Artist Names"
   ]
  },
  {
   "cell_type": "code",
   "execution_count": 2,
   "metadata": {},
   "outputs": [],
   "source": [
    "artist_names = get_artist_names()"
   ]
  },
  {
   "cell_type": "code",
   "execution_count": 3,
   "metadata": {},
   "outputs": [
    {
     "data": {
      "text/plain": [
       "['anders',\n",
       " 'Pat Lok',\n",
       " 'Kye Sones',\n",
       " 'Dizkopolis',\n",
       " 'Lute',\n",
       " 'Aaron Cohen',\n",
       " 'The Mouse Outfit',\n",
       " 'IAMDDB + FOX',\n",
       " 'yaeji',\n",
       " 'Rex Orange County']"
      ]
     },
     "execution_count": 3,
     "metadata": {},
     "output_type": "execute_result"
    }
   ],
   "source": [
    "artist_names[0:10]"
   ]
  },
  {
   "cell_type": "markdown",
   "metadata": {},
   "source": [
    "### Initialize The Tool"
   ]
  },
  {
   "cell_type": "code",
   "execution_count": 4,
   "metadata": {},
   "outputs": [],
   "source": [
    "gsa = GenSimilArtists()"
   ]
  },
  {
   "cell_type": "markdown",
   "metadata": {},
   "source": [
    "### and now you can ask for similar artists"
   ]
  },
  {
   "cell_type": "code",
   "execution_count": 5,
   "metadata": {},
   "outputs": [
    {
     "data": {
      "text/plain": [
       "[{'artist_name': 'Timbaland', 'propability': 1.0},\n",
       " {'artist_name': 'Tweet', 'propability': 0.9369953},\n",
       " {'artist_name': 'Ms. Jade', 'propability': 0.90538627},\n",
       " {'artist_name': 'Timbaland & Magoo', 'propability': 0.90134925},\n",
       " {'artist_name': 'Static Major', 'propability': 0.88873535}]"
      ]
     },
     "execution_count": 5,
     "metadata": {},
     "output_type": "execute_result"
    }
   ],
   "source": [
    "gsa.get_similar_artists('Timbaland')"
   ]
  },
  {
   "cell_type": "markdown",
   "metadata": {},
   "source": [
    "This result is very pleasing since it returns all the artists Timbaland worked with in his prime."
   ]
  },
  {
   "cell_type": "code",
   "execution_count": 6,
   "metadata": {},
   "outputs": [
    {
     "name": "stdout",
     "output_type": "stream",
     "text": [
      "No Last.FM bio for Capsule found.\n"
     ]
    }
   ],
   "source": [
    "gsa.get_similar_artists('Capsule')  # A J-Pop duo"
   ]
  },
  {
   "cell_type": "markdown",
   "metadata": {},
   "source": [
    "May be there is a Last.FM bio but my API call was not smart enough for that. It could not find it."
   ]
  },
  {
   "cell_type": "code",
   "execution_count": 7,
   "metadata": {},
   "outputs": [
    {
     "data": {
      "text/plain": [
       "[{'artist_name': 'Flipper', 'propability': 0.92014307},\n",
       " {'artist_name': 'DOOM', 'propability': 0.9121195},\n",
       " {'artist_name': 'Fleetwood Mac', 'propability': 0.90717185},\n",
       " {'artist_name': 'Primus', 'propability': 0.9071477},\n",
       " {'artist_name': 'Phoenix', 'propability': 0.90209013}]"
      ]
     },
     "execution_count": 7,
     "metadata": {},
     "output_type": "execute_result"
    }
   ],
   "source": [
    "gsa.get_similar_artists('slayer')"
   ]
  },
  {
   "cell_type": "markdown",
   "metadata": {},
   "source": [
    "I guess this result is very bad since the data for my model does not include one single metal band. So the bad result is no surprise."
   ]
  },
  {
   "cell_type": "code",
   "execution_count": 8,
   "metadata": {},
   "outputs": [
    {
     "data": {
      "text/plain": [
       "[{'artist_name': '9th Wonder', 'propability': 1.0},\n",
       " {'artist_name': 'Rapsody', 'propability': 0.87580407},\n",
       " {'artist_name': 'Murs & 9th Wonder', 'propability': 0.86397386},\n",
       " {'artist_name': 'Nicolay', 'propability': 0.8150497},\n",
       " {'artist_name': 'Median', 'propability': 0.7994651},\n",
       " {'artist_name': 'Skyzoo', 'propability': 0.7969841},\n",
       " {'artist_name': 'Little Brother', 'propability': 0.7928525},\n",
       " {'artist_name': 'The Foreign Exchange', 'propability': 0.7899626},\n",
       " {'artist_name': 'Murs', 'propability': 0.74221516},\n",
       " {'artist_name': 'Kaze & 9th Wonder', 'propability': 0.74137616}]"
      ]
     },
     "execution_count": 8,
     "metadata": {},
     "output_type": "execute_result"
    }
   ],
   "source": [
    "gsa.get_similar_artists('9th Wonder', n=10)"
   ]
  },
  {
   "cell_type": "markdown",
   "metadata": {},
   "source": [
    "You can also ask for more artists. \n",
    "This result again is very good."
   ]
  },
  {
   "cell_type": "code",
   "execution_count": 9,
   "metadata": {},
   "outputs": [
    {
     "data": {
      "text/plain": [
       "[{'artist_name': 'Moloko', 'propability': 0.880675},\n",
       " {'artist_name': 'Sneaker Pimps', 'propability': 0.86720747},\n",
       " {'artist_name': 'Chris Rea', 'propability': 0.8664189},\n",
       " {'artist_name': 'The Divine Comedy', 'propability': 0.8585553},\n",
       " {'artist_name': 'Art Of Trance', 'propability': 0.8529162}]"
      ]
     },
     "execution_count": 9,
     "metadata": {},
     "output_type": "execute_result"
    }
   ],
   "source": [
    "gsa.get_similar_artists('Fatboy Slim')"
   ]
  },
  {
   "cell_type": "markdown",
   "metadata": {},
   "source": [
    "This result is not what I want to listen to if I ask for artists like Fatboy Slim. Sad."
   ]
  },
  {
   "cell_type": "code",
   "execution_count": 10,
   "metadata": {},
   "outputs": [
    {
     "data": {
      "text/plain": [
       "[{'artist_name': 'Daft Punk', 'propability': 1.0},\n",
       " {'artist_name': 'Fred Falke', 'propability': 0.8108726},\n",
       " {'artist_name': 'Kavinsky', 'propability': 0.8086586},\n",
       " {'artist_name': 'Secret Cinema', 'propability': 0.7905055},\n",
       " {'artist_name': 'Chromeo', 'propability': 0.7899851}]"
      ]
     },
     "execution_count": 10,
     "metadata": {},
     "output_type": "execute_result"
    }
   ],
   "source": [
    "gsa.get_similar_artists('Daft Punk')"
   ]
  },
  {
   "cell_type": "markdown",
   "metadata": {},
   "source": [
    "Looks good to me."
   ]
  },
  {
   "cell_type": "code",
   "execution_count": 11,
   "metadata": {},
   "outputs": [
    {
     "data": {
      "text/plain": [
       "[{'artist_name': 'Stromae', 'propability': 0.99999994},\n",
       " {'artist_name': 'Tarrus Riley', 'propability': 0.73315144},\n",
       " {'artist_name': 'JERO', 'propability': 0.72369},\n",
       " {'artist_name': 'Paul McCartney', 'propability': 0.7215166},\n",
       " {'artist_name': 'Chris Stapleton', 'propability': 0.70553035}]"
      ]
     },
     "execution_count": 11,
     "metadata": {},
     "output_type": "execute_result"
    }
   ],
   "source": [
    "gsa.get_similar_artists('Stromae')"
   ]
  },
  {
   "cell_type": "markdown",
   "metadata": {},
   "source": [
    "Looks bad to me."
   ]
  },
  {
   "cell_type": "code",
   "execution_count": 12,
   "metadata": {},
   "outputs": [
    {
     "data": {
      "text/plain": [
       "[{'artist_name': 'DJ Paypal', 'propability': 1.0000001},\n",
       " {'artist_name': 'MF Grimm', 'propability': 0.9410435},\n",
       " {'artist_name': 'PnB Rock', 'propability': 0.93753374},\n",
       " {'artist_name': 'Will Heard', 'propability': 0.93601763},\n",
       " {'artist_name': 'KO', 'propability': 0.9245152}]"
      ]
     },
     "execution_count": 12,
     "metadata": {},
     "output_type": "execute_result"
    }
   ],
   "source": [
    "gsa.get_similar_artists('DJ Paypal')"
   ]
  },
  {
   "cell_type": "markdown",
   "metadata": {},
   "source": [
    "Hm, no. I want more Teklife."
   ]
  },
  {
   "cell_type": "code",
   "execution_count": 13,
   "metadata": {},
   "outputs": [
    {
     "data": {
      "text/plain": [
       "[{'artist_name': 'Goldmund', 'propability': 1.0},\n",
       " {'artist_name': 'James Blake', 'propability': 0.84563196},\n",
       " {'artist_name': 'The Black Keys', 'propability': 0.787224},\n",
       " {'artist_name': 'Jamie Woon', 'propability': 0.76799405},\n",
       " {'artist_name': 'Jamie xx', 'propability': 0.76322204}]"
      ]
     },
     "execution_count": 13,
     "metadata": {},
     "output_type": "execute_result"
    }
   ],
   "source": [
    "gsa.get_similar_artists('Goldmund')"
   ]
  },
  {
   "cell_type": "markdown",
   "metadata": {},
   "source": [
    "Hm, this is hard for me to judge, since Goldmund is not pure classical music."
   ]
  },
  {
   "cell_type": "code",
   "execution_count": 14,
   "metadata": {},
   "outputs": [
    {
     "data": {
      "text/plain": [
       "[{'artist_name': 'D12', 'propability': 1.0},\n",
       " {'artist_name': 'Obie Trice', 'propability': 0.7833216},\n",
       " {'artist_name': 'Royce Da 5\\'9\"', 'propability': 0.72922695},\n",
       " {'artist_name': 'Proof', 'propability': 0.7157356},\n",
       " {'artist_name': 'Onyx', 'propability': 0.6630904}]"
      ]
     },
     "execution_count": 14,
     "metadata": {},
     "output_type": "execute_result"
    }
   ],
   "source": [
    "gsa.get_similar_artists('D12')"
   ]
  },
  {
   "cell_type": "markdown",
   "metadata": {},
   "source": [
    "Very good.\n",
    "\n",
    "Looks like this concept works if the source data is big enough. The estimations of Hip Hop artists sound very good to me. Everything I do not listen to on a regular does not work that well."
   ]
  },
  {
   "cell_type": "code",
   "execution_count": 15,
   "metadata": {},
   "outputs": [
    {
     "data": {
      "text/plain": [
       "[{'artist_name': 'Major Lazer', 'propability': 1.0},\n",
       " {'artist_name': 'Jack Ü', 'propability': 0.77710485},\n",
       " {'artist_name': 'Dillon Francis', 'propability': 0.75997114},\n",
       " {'artist_name': 'Valentino Khan', 'propability': 0.742527},\n",
       " {'artist_name': 'Skrillex', 'propability': 0.7293745}]"
      ]
     },
     "execution_count": 15,
     "metadata": {},
     "output_type": "execute_result"
    }
   ],
   "source": [
    "gsa.get_similar_artists('Major Lazer')"
   ]
  },
  {
   "cell_type": "markdown",
   "metadata": {},
   "source": [
    "Jup."
   ]
  },
  {
   "cell_type": "code",
   "execution_count": 16,
   "metadata": {},
   "outputs": [
    {
     "data": {
      "text/plain": [
       "[{'artist_name': 'Frédéric Chopin', 'propability': 1.0},\n",
       " {'artist_name': 'Robert Schumann', 'propability': 0.95290774},\n",
       " {'artist_name': 'Claudio Arrau', 'propability': 0.9455342},\n",
       " {'artist_name': 'Franz Schubert', 'propability': 0.9339115},\n",
       " {'artist_name': 'Jean Sibelius', 'propability': 0.92869085}]"
      ]
     },
     "execution_count": 16,
     "metadata": {},
     "output_type": "execute_result"
    }
   ],
   "source": [
    "gsa.get_similar_artists('Frédéric Chopin')"
   ]
  },
  {
   "cell_type": "markdown",
   "metadata": {},
   "source": [
    "Jup."
   ]
  },
  {
   "cell_type": "code",
   "execution_count": 17,
   "metadata": {},
   "outputs": [
    {
     "data": {
      "text/plain": [
       "[{'artist_name': 'David Lynch', 'propability': 1.0},\n",
       " {'artist_name': 'Angelo Badalamenti', 'propability': 0.8381841},\n",
       " {'artist_name': 'John Murphy', 'propability': 0.81373286},\n",
       " {'artist_name': 'Hans Zimmer', 'propability': 0.8012546},\n",
       " {'artist_name': 'Vangelis', 'propability': 0.7986069}]"
      ]
     },
     "execution_count": 17,
     "metadata": {},
     "output_type": "execute_result"
    }
   ],
   "source": [
    "gsa.get_similar_artists('David Lynch')"
   ]
  },
  {
   "cell_type": "markdown",
   "metadata": {},
   "source": [
    "So there seems to be the movie connection. Vangelis with the Blade Runner soundtrack, Hans Zimmer with every soundtrack, John Murphy and Angelo Badalamenti with Twin Peaks.\n",
    "\n",
    "gensim or topic modelling fixates really fast on one topic I think. Hans Zimmer and David Lynch do not sound that much alike."
   ]
  },
  {
   "cell_type": "code",
   "execution_count": 18,
   "metadata": {},
   "outputs": [
    {
     "data": {
      "text/plain": [
       "[{'artist_name': 'Len Faki', 'propability': 1.0},\n",
       " {'artist_name': 'Oliver Schories', 'propability': 0.9150675},\n",
       " {'artist_name': 'Gregor Tresher', 'propability': 0.90213823},\n",
       " {'artist_name': 'Oliver Huntemann', 'propability': 0.8946352},\n",
       " {'artist_name': 'Phon.o', 'propability': 0.8896719}]"
      ]
     },
     "execution_count": 18,
     "metadata": {},
     "output_type": "execute_result"
    }
   ],
   "source": [
    "gsa.get_similar_artists('Len Faki')"
   ]
  },
  {
   "cell_type": "markdown",
   "metadata": {},
   "source": [
    "That one counts since I do know that I do not listen to many artists like Len Faki ergo the source data does not provide too much similar artists to Len Faki. But those are already good enough."
   ]
  },
  {
   "cell_type": "code",
   "execution_count": null,
   "metadata": {},
   "outputs": [],
   "source": []
  }
 ],
 "metadata": {
  "kernelspec": {
   "display_name": "Python 3",
   "language": "python",
   "name": "python3"
  },
  "language_info": {
   "codemirror_mode": {
    "name": "ipython",
    "version": 3
   },
   "file_extension": ".py",
   "mimetype": "text/x-python",
   "name": "python",
   "nbconvert_exporter": "python",
   "pygments_lexer": "ipython3",
   "version": "3.6.4"
  }
 },
 "nbformat": 4,
 "nbformat_minor": 2
}
